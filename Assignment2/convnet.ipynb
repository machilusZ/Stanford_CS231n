{
 "cells": [
  {
   "cell_type": "markdown",
   "metadata": {},
   "source": [
    "# Train a ConvNet!\n",
    "We now have a generic solver and a bunch of modularized layers. It's time to put it all together, and train a ConvNet to recognize the classes in CIFAR-10. In this notebook we will walk you through training a simple two-layer ConvNet and then set you free to build the best net that you can to perform well on CIFAR-10.\n",
    "\n",
    "Open up the file `cs231n/classifiers/convnet.py`; you will see that the `two_layer_convnet` function computes the loss and gradients for a two-layer ConvNet. Note that this function uses the \"sandwich\" layers defined in `cs231n/layer_utils.py`. "
   ]
  },
  {
   "cell_type": "code",
   "execution_count": 1,
   "metadata": {
    "collapsed": false
   },
   "outputs": [],
   "source": [
    "# As usual, a bit of setup\n",
    "\n",
    "import numpy as np\n",
    "import matplotlib.pyplot as plt\n",
    "from cs231n.classifier_trainer import ClassifierTrainer\n",
    "from cs231n.gradient_check import eval_numerical_gradient\n",
    "from cs231n.classifiers.convnet import *\n",
    "\n",
    "%matplotlib inline\n",
    "plt.rcParams['figure.figsize'] = (10.0, 8.0) # set default size of plots\n",
    "plt.rcParams['image.interpolation'] = 'nearest'\n",
    "plt.rcParams['image.cmap'] = 'gray'\n",
    "\n",
    "# for auto-reloading external modules\n",
    "# see http://stackoverflow.com/questions/1907993/autoreload-of-modules-in-ipython\n",
    "%load_ext autoreload\n",
    "%autoreload 2\n",
    "\n",
    "def rel_error(x, y):\n",
    "  \"\"\" returns relative error \"\"\"\n",
    "  return np.max(np.abs(x - y) / (np.maximum(1e-8, np.abs(x) + np.abs(y))))"
   ]
  },
  {
   "cell_type": "code",
   "execution_count": 2,
   "metadata": {
    "collapsed": false
   },
   "outputs": [
    {
     "name": "stdout",
     "output_type": "stream",
     "text": [
      "Train data shape:  (49000, 3, 32, 32)\n",
      "Train labels shape:  (49000,)\n",
      "Validation data shape:  (1000, 3, 32, 32)\n",
      "Validation labels shape:  (1000,)\n",
      "Test data shape:  (1000, 32, 32, 3)\n",
      "Test labels shape:  (1000,)\n"
     ]
    }
   ],
   "source": [
    "from cs231n.data_utils import load_CIFAR10\n",
    "\n",
    "def get_CIFAR10_data(num_training=49000, num_validation=1000, num_test=1000):\n",
    "    \"\"\"\n",
    "    Load the CIFAR-10 dataset from disk and perform preprocessing to prepare\n",
    "    it for the two-layer neural net classifier. These are the same steps as\n",
    "    we used for the SVM, but condensed to a single function.  \n",
    "    \"\"\"\n",
    "    # Load the raw CIFAR-10 data\n",
    "    cifar10_dir = 'cs231n/datasets/cifar-10-batches-py'\n",
    "    X_train, y_train, X_test, y_test = load_CIFAR10(cifar10_dir)\n",
    "        \n",
    "    # Subsample the data\n",
    "    mask = range(num_training, num_training + num_validation)\n",
    "    X_val = X_train[mask]\n",
    "    y_val = y_train[mask]\n",
    "    mask = range(num_training)\n",
    "    X_train = X_train[mask]\n",
    "    y_train = y_train[mask]\n",
    "    mask = range(num_test)\n",
    "    X_test = X_test[mask]\n",
    "    y_test = y_test[mask]\n",
    "\n",
    "    # Normalize the data: subtract the mean image\n",
    "    mean_image = np.mean(X_train, axis=0)\n",
    "    X_train -= mean_image\n",
    "    X_val -= mean_image\n",
    "    X_test -= mean_image\n",
    "    \n",
    "    # Transpose so that channels come first\n",
    "    X_train = X_train.transpose(0, 3, 1, 2).copy()\n",
    "    X_val = X_val.transpose(0, 3, 1, 2).copy()\n",
    "    x_test = X_test.transpose(0, 3, 1, 2).copy()\n",
    "\n",
    "    return X_train, y_train, X_val, y_val, X_test, y_test\n",
    "\n",
    "\n",
    "# Invoke the above function to get our data.\n",
    "X_train, y_train, X_val, y_val, X_test, y_test = get_CIFAR10_data()\n",
    "print 'Train data shape: ', X_train.shape\n",
    "print 'Train labels shape: ', y_train.shape\n",
    "print 'Validation data shape: ', X_val.shape\n",
    "print 'Validation labels shape: ', y_val.shape\n",
    "print 'Test data shape: ', X_test.shape\n",
    "print 'Test labels shape: ', y_test.shape"
   ]
  },
  {
   "cell_type": "markdown",
   "metadata": {},
   "source": [
    "# Sanity check loss\n",
    "After you build a new network, one of the first things you should do is sanity check the loss. When we use the softmax loss, we expect the loss for random weights (and no regularization) to be about `log(C)` for `C` classes. When we add regularization this should go up."
   ]
  },
  {
   "cell_type": "code",
   "execution_count": 3,
   "metadata": {
    "collapsed": false
   },
   "outputs": [
    {
     "name": "stdout",
     "output_type": "stream",
     "text": [
      "Sanity check loss (no regularization):  2.30267722528\n",
      "Sanity check loss (with regularization):  2.34454031253\n"
     ]
    }
   ],
   "source": [
    "model = init_two_layer_convnet()\n",
    "\n",
    "X = np.random.randn(100, 3, 32, 32)\n",
    "y = np.random.randint(10, size=100)\n",
    "\n",
    "loss, _ = two_layer_convnet(X, model, y, reg=0)\n",
    "\n",
    "# Sanity check: Loss should be about log(10) = 2.3026\n",
    "print 'Sanity check loss (no regularization): ', loss\n",
    "\n",
    "# Sanity check: Loss should go up when you add regularization\n",
    "loss, _ = two_layer_convnet(X, model, y, reg=1)\n",
    "print 'Sanity check loss (with regularization): ', loss"
   ]
  },
  {
   "cell_type": "markdown",
   "metadata": {},
   "source": [
    "# Gradient check\n",
    "After the loss looks reasonable, you should always use numeric gradient checking to make sure that your backward pass is correct. When you use numeric gradient checking you should use a small amount of artifical data and a small number of neurons at each layer."
   ]
  },
  {
   "cell_type": "code",
   "execution_count": 4,
   "metadata": {
    "collapsed": false
   },
   "outputs": [
    {
     "name": "stdout",
     "output_type": "stream",
     "text": [
      "W1 max relative error: 4.951335e-07\n",
      "W2 max relative error: 3.414398e-06\n",
      "b1 max relative error: 2.153630e-07\n",
      "b2 max relative error: 8.711000e-10\n"
     ]
    }
   ],
   "source": [
    "num_inputs = 2\n",
    "input_shape = (3, 16, 16)\n",
    "reg = 0.0\n",
    "num_classes = 10\n",
    "X = np.random.randn(num_inputs, *input_shape)\n",
    "y = np.random.randint(num_classes, size=num_inputs)\n",
    "\n",
    "model = init_two_layer_convnet(num_filters=3, filter_size=3, input_shape=input_shape)\n",
    "loss, grads = two_layer_convnet(X, model, y)\n",
    "for param_name in sorted(grads):\n",
    "    f = lambda _: two_layer_convnet(X, model, y)[0]\n",
    "    param_grad_num = eval_numerical_gradient(f, model[param_name], verbose=False, h=1e-6)\n",
    "    e = rel_error(param_grad_num, grads[param_name])\n",
    "    print '%s max relative error: %e' % (param_name, rel_error(param_grad_num, grads[param_name]))"
   ]
  },
  {
   "cell_type": "markdown",
   "metadata": {},
   "source": [
    "# Overfit small data\n",
    "A nice trick is to train your model with just a few training samples. You should be able to overfit small datasets, which will result in very high training accuracy and comparatively low validation accuracy."
   ]
  },
  {
   "cell_type": "code",
   "execution_count": 5,
   "metadata": {
    "collapsed": false
   },
   "outputs": [
    {
     "name": "stdout",
     "output_type": "stream",
     "text": [
      "Finished epoch 0 / 10: cost 2.304225, train: 0.140000, val 0.093000, lr 1.000000e-04, reg 1.000000e-03\n",
      "Finished epoch 1 / 10: cost 2.233661, train: 0.260000, val 0.107000, lr 9.500000e-05, reg 1.000000e-03\n",
      "Finished epoch 2 / 10: cost 1.753572, train: 0.240000, val 0.124000, lr 9.025000e-05, reg 1.000000e-03\n",
      "Finished epoch 3 / 10: cost 1.423318, train: 0.440000, val 0.169000, lr 8.573750e-05, reg 1.000000e-03\n",
      "Finished epoch 4 / 10: cost 1.388094, train: 0.480000, val 0.162000, lr 8.145062e-05, reg 1.000000e-03\n",
      "Finished epoch 5 / 10: cost 0.720219, train: 0.640000, val 0.171000, lr 7.737809e-05, reg 1.000000e-03\n",
      "Finished epoch 6 / 10: cost 0.990847, train: 0.720000, val 0.184000, lr 7.350919e-05, reg 1.000000e-03\n",
      "Finished epoch 7 / 10: cost 0.497275, train: 0.760000, val 0.199000, lr 6.983373e-05, reg 1.000000e-03\n",
      "Finished epoch 8 / 10: cost 0.240551, train: 0.860000, val 0.168000, lr 6.634204e-05, reg 1.000000e-03\n",
      "Finished epoch 9 / 10: cost 0.366367, train: 0.900000, val 0.177000, lr 6.302494e-05, reg 1.000000e-03\n",
      "Finished epoch 10 / 10: cost 0.400485, train: 0.920000, val 0.168000, lr 5.987369e-05, reg 1.000000e-03\n",
      "val 0.199000, lr 5.987369e-05, reg 1.000000e-03, momentum 0.900, hidden_size 50, epochs 10, train 0.920000\n"
     ]
    }
   ],
   "source": [
    "# Use a two-layer ConvNet to overfit 50 training examples.\n",
    "\n",
    "model = init_two_layer_convnet()\n",
    "trainer = ClassifierTrainer()\n",
    "best_model, loss_history, train_acc_history, val_acc_history = trainer.train(\n",
    "          X_train[:50], y_train[:50], X_val, y_val, model, two_layer_convnet,\n",
    "          reg=0.001, momentum=0.9, learning_rate=0.0001, batch_size=10, num_epochs=10,\n",
    "          verbose=True)"
   ]
  },
  {
   "cell_type": "markdown",
   "metadata": {},
   "source": [
    "Plotting the loss, training accuracy, and validation accuracy should show clear overfitting:"
   ]
  },
  {
   "cell_type": "code",
   "execution_count": 6,
   "metadata": {
    "collapsed": false
   },
   "outputs": [
    {
     "data": {
      "image/png": "iVBORw0KGgoAAAANSUhEUgAAAmMAAAHuCAYAAADTDgvmAAAABHNCSVQICAgIfAhkiAAAAAlwSFlz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\n/0l8T8rS0nkS/8SJvq1HZc1dzzoLxoxJTUxh2LbNV
