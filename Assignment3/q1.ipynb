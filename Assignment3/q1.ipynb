{
 "cells": [
  {
   "cell_type": "markdown",
   "metadata": {},
   "source": [
    "# Dropout and Data Augmentation\n",
    "In this exercise we will implement two ways to reduce overfitting.\n",
    "\n",
    "Like the previous assignment, we will train ConvNets to recognize the categories in CIFAR-10. However unlike the previous assignment where we used 49,000 images for training, in this exercise we will use just 500 images for training.\n",
    "\n",
    "If we try to train a high-capacity model like a ConvNet on this small amount of data, we expect to overfit, and end up with a solution that does not generalize. We will see that we can drastically reduce overfitting by using dropout and data augmentation."
   ]
  },
  {
   "cell_type": "code",
   "execution_count": 1,
   "metadata": {
    "collapsed": false
   },
   "outputs": [],
   "source": [
    "# A bit of setup\n",
    "\n",
    "import numpy as np\n",
    "import matplotlib.pyplot as plt\n",
    "from time import time\n",
    "from cs231n.layers import *\n",
    "from cs231n.fast_layers import *\n",
    "\n",
    "%matplotlib inline\n",
    "plt.rcParams['figure.figsize'] = (10.0, 8.0) # set default size of plots\n",
    "plt.rcParams['image.interpolation'] = 'nearest'\n",
    "plt.rcParams['image.cmap'] = 'gray'\n",
    "\n",
    "# for auto-reloading extenrnal modules\n",
    "# see http://stackoverflow.com/questions/1907993/autoreload-of-modules-in-ipython\n",
    "%load_ext autoreload\n",
    "%autoreload 2\n",
    "\n",
    "def rel_error(x, y):\n",
    "    \"\"\" returns relative error \"\"\"\n",
    "    return np.max(np.abs(x - y) / (np.maximum(1e-8, np.abs(x) + np.abs(y))))"
   ]
  },
  {
   "cell_type": "markdown",
   "metadata": {},
   "source": [
    "# Load data\n",
    "For this exercise our training set will contain 500 images and our validation and test sets will contain 1000 images as usual."
   ]
  },
  {
   "cell_type": "code",
   "execution_count": 2,
   "metadata": {
    "collapsed": false
   },
   "outputs": [
    {
     "name": "stdout",
     "output_type": "stream",
     "text": [
      "Train data shape:  (500, 3, 32, 32)\n",
      "Train labels shape:  (500,)\n",
      "Validation data shape:  (1000, 3, 32, 32)\n",
      "Validation labels shape:  (1000,)\n",
      "Test data shape:  (1000, 3, 32, 32)\n",
      "Test labels shape:  (1000,)\n"
     ]
    }
   ],
   "source": [
    "from cs231n.data_utils import load_CIFAR10\n",
    "\n",
    "def get_CIFAR10_data(num_training=500, num_validation=1000, num_test=1000, normalize=True):\n",
    "    \"\"\"\n",
    "    Load the CIFAR-10 dataset from disk and perform preprocessing to prepare\n",
    "    it for the two-layer neural net classifier. These are the same steps as\n",
    "    we used for the SVM, but condensed to a single function.  \n",
    "    \"\"\"\n",
    "    # Load the raw CIFAR-10 data\n",
    "    cifar10_dir = 'cs231n/datasets/cifar-10-batches-py'\n",
    "    X_train, y_train, X_test, y_test = load_CIFAR10(cifar10_dir)\n",
    "        \n",
    "    # Subsample the data\n",
    "    mask = range(num_training, num_training + num_validation)\n",
    "    X_val = X_train[mask]\n",
    "    y_val = y_train[mask]\n",
    "    mask = range(num_training)\n",
    "    X_train = X_train[mask]\n",
    "    y_train = y_train[mask]\n",
    "    mask = range(num_test)\n",
    "    X_test = X_test[mask]\n",
    "    y_test = y_test[mask]\n",
    "\n",
    "    # Normalize the data: subtract the mean image\n",
    "    if normalize:\n",
    "        mean_image = np.mean(X_train, axis=0)\n",
    "        X_train -= mean_image\n",
    "        X_val -= mean_image\n",
    "        X_test -= mean_image\n",
    "    \n",
    "    # Transpose so that channels come first\n",
    "    X_train = X_train.transpose(0, 3, 1, 2).copy()\n",
    "    X_val = X_val.transpose(0, 3, 1, 2).copy()\n",
    "    X_test = X_test.transpose(0, 3, 1, 2).copy()\n",
    "\n",
    "    return X_train, y_train, X_val, y_val, X_test, y_test\n",
    "\n",
    "\n",
    "# Invoke the above function to get our data.\n",
    "X_train, y_train, X_val, y_val, X_test, y_test = get_CIFAR10_data(num_training=500)\n",
    "print 'Train data shape: ', X_train.shape\n",
    "print 'Train labels shape: ', y_train.shape\n",
    "print 'Validation data shape: ', X_val.shape\n",
    "print 'Validation labels shape: ', y_val.shape\n",
    "print 'Test data shape: ', X_test.shape\n",
    "print 'Test labels shape: ', y_test.shape"
   ]
  },
  {
   "cell_type": "markdown",
   "metadata": {},
   "source": [
    "# Overfit\n",
    "Now that we've loaded our data, we will attempt to train a three layer convnet on this data. The three layer convnet has the architecture\n",
    "\n",
    "`conv - relu - pool - affine - relu - affine - softmax`\n",
    "\n",
    "We will use 32 5x5 filters, and our hidden affine layer will have 128 neurons.\n",
    "\n",
    "This is a very expressive model given that we have only 500 training samples, so we should expect to massively overfit this dataset, and achieve a training accuracy of nearly 0.9 with a much lower validation accuracy."
   ]
  },
  {
   "cell_type": "code",
   "execution_count": 3,
   "metadata": {
    "collapsed": false
   },
   "outputs": [
    {
     "name": "stdout",
     "output_type": "stream",
     "text": [
      "starting iteration  0\n",
      "Finished epoch 0 / 15: cost 4.934002, train: 0.200000, val 0.153000, lr 5.000000e-05\n",
      "Finished epoch 1 / 15: cost 4.174814, train: 0.358000, val 0.247000, lr 5.000000e-05\n",
      "starting iteration  10\n",
      "Finished epoch 2 / 15: cost 3.945347, train: 0.422000, val 0.276000, lr 5.000000e-05\n",
      "starting iteration  20\n",
      "Finished epoch 3 / 15: cost 3.548664, train: 0.498000, val 0.324000, lr 5.000000e-05\n",
      "starting iteration  30\n",
      "Finished epoch 4 / 15: cost 3.395736, train: 0.624000, val 0.328000, lr 5.000000e-05\n",
      "starting iteration  40\n",
      "Finished epoch 5 / 15: cost 3.259530, train: 0.682000, val 0.350000, lr 5.000000e-05\n",
      "starting iteration  50\n",
      "Finished epoch 6 / 15: cost 3.116731, train: 0.678000, val 0.330000, lr 5.000000e-05\n",
      "starting iteration  60\n",
      "Finished epoch 7 / 15: cost 3.038537, train: 0.724000, val 0.362000, lr 5.000000e-05\n",
      "starting iteration  70\n",
      "Finished epoch 8 / 15: cost 3.023407, train: 0.746000, val 0.357000, lr 5.000000e-05\n",
      "starting iteration  80\n",
      "Finished epoch 9 / 15: cost 2.927809, train: 0.786000, val 0.349000, lr 5.000000e-05\n",
      "starting iteration  90\n",
      "Finished epoch 10 / 15: cost 2.542241, train: 0.796000, val 0.341000, lr 5.000000e-05\n",
      "starting iteration  100\n",
      "Finished epoch 11 / 15: cost 2.537562, train: 0.818000, val 0.341000, lr 5.000000e-05\n",
      "starting iteration  110\n",
      "Finished epoch 12 / 15: cost 2.509208, train: 0.870000, val 0.367000, lr 5.000000e-05\n",
      "starting iteration  120\n",
      "Finished epoch 13 / 15: cost 2.297983, train: 0.878000, val 0.371000, lr 5.000000e-05\n",
      "starting iteration  130\n",
      "Finished epoch 14 / 15: cost 2.332363, train: 0.888000, val 0.369000, lr 5.000000e-05\n",
      "starting iteration  140\n",
      "Finished epoch 15 / 15: cost 2.179863, train: 0.894000, val 0.352000, lr 5.000000e-05\n",
      "finished optimization. best validation accuracy: 0.371000\n"
     ]
    }
   ],
   "source": [
    "from cs231n.classifiers.convnet import *\n",
    "from cs231n.classifier_trainer import ClassifierTrainer\n",
    "\n",
    "model = init_three_layer_convnet(filter_size=5, num_filters=(32, 128))\n",
    "trainer = ClassifierTrainer()\n",
    "best_model, loss_history, train_acc_history, val_acc_history = trainer.train(\n",
    "          X_train, y_train, X_val, y_val, model, three_layer_convnet, dropout=None,\n",
    "          reg=0.05, learning_rate=0.00005, batch_size=50, num_epochs=15,\n",
    "          learning_rate_decay=1.0, update='rmsprop', verbose=True)"
   ]
  },
  {
   "cell_type": "code",
   "execution_count": 4,
   "metadata": {
    "collapsed": false
   },
   "outputs": [
    {
     "data": {
      "image/png": "iVBORw0KGgoAAAANSUhEUgAAAmYAAAH4CAYAAADgqCEkAAAABHNCSVQICAgIfAhkiAAAAAlwSFlz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\nAdx9Nxx1VN
